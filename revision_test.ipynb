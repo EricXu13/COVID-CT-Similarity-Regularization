{
 "cells": [
  {
   "cell_type": "code",
   "execution_count": 1,
   "id": "bc2df6f5-1629-4093-be9a-565aac10012d",
   "metadata": {},
   "outputs": [],
   "source": [
    "import os"
   ]
  },
  {
   "cell_type": "code",
   "execution_count": 10,
   "id": "4c8782f9-c3f0-4a0c-bbdb-0f57a6865038",
   "metadata": {},
   "outputs": [
    {
     "data": {
      "text/plain": [
       "['COVID', 'non-COVID']"
      ]
     },
     "execution_count": 10,
     "metadata": {},
     "output_type": "execute_result"
    }
   ],
   "source": [
    "os.listdir('../datasets/sars-cov2')"
   ]
  },
  {
   "cell_type": "code",
   "execution_count": null,
   "id": "8451ed9b-db8e-4051-973b-94070f6ed55a",
   "metadata": {},
   "outputs": [],
   "source": []
  }
 ],
 "metadata": {
  "kernelspec": {
   "display_name": "Python 3 (ipykernel)",
   "language": "python",
   "name": "python3"
  },
  "language_info": {
   "codemirror_mode": {
    "name": "ipython",
    "version": 3
   },
   "file_extension": ".py",
   "mimetype": "text/x-python",
   "name": "python",
   "nbconvert_exporter": "python",
   "pygments_lexer": "ipython3",
   "version": "3.9.7"
  }
 },
 "nbformat": 4,
 "nbformat_minor": 5
}
